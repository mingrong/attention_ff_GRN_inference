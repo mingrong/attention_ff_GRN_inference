{
 "cells": [
  {
   "cell_type": "code",
   "execution_count": 1,
   "id": "4e1d0c81",
   "metadata": {},
   "outputs": [
    {
     "name": "stderr",
     "output_type": "stream",
     "text": [
      "Using backend: pytorch\n"
     ]
    }
   ],
   "source": [
    "import torch\n",
    "import torch.nn as nn\n",
    "import torch.nn.functional as F\n",
    "import random\n",
    "import pandas as pd\n",
    "from sklearn.preprocessing import MinMaxScaler\n",
    "import numpy as np  \n",
    "from earlystopping import EarlyStopping\n",
    "from models import *\n",
    "from utils import *"
   ]
  },
  {
   "cell_type": "code",
   "execution_count": 2,
   "id": "2787bd65",
   "metadata": {},
   "outputs": [],
   "source": [
    "#cerevisiae,silico,coli\n",
    "name='coli'\n",
    "expression,network,tfs=load_data(name)"
   ]
  },
  {
   "cell_type": "code",
   "execution_count": 4,
   "id": "e17aaf8e",
   "metadata": {},
   "outputs": [],
   "source": [
    "scaler = MinMaxScaler()\n",
    "data=scaler.fit_transform(expression).T"
   ]
  },
  {
   "cell_type": "code",
   "execution_count": 8,
   "id": "524e8fd5",
   "metadata": {},
   "outputs": [],
   "source": [
    "df_expression=pd.DataFrame(data.T, columns=expression.columns)"
   ]
  },
  {
   "cell_type": "code",
   "execution_count": 9,
   "id": "5cca4cbb",
   "metadata": {},
   "outputs": [],
   "source": [
    "src_gene=network[0].values\n",
    "dst_gene=network[1].values"
   ]
  },
  {
   "cell_type": "code",
   "execution_count": 10,
   "id": "7e579ca1",
   "metadata": {},
   "outputs": [],
   "source": [
    "src_expression_df=df_expression[src_gene]\n",
    "dst_expression_df=df_expression[dst_gene]"
   ]
  },
  {
   "cell_type": "code",
   "execution_count": 11,
   "id": "10e71ecc",
   "metadata": {},
   "outputs": [],
   "source": [
    "input_x=torch.tensor(src_expression_df.T.values,dtype=torch.float32)\n",
    "input_y=torch.tensor(dst_expression_df.T.values,dtype=torch.float32)"
   ]
  },
  {
   "cell_type": "code",
   "execution_count": 15,
   "id": "5d52bec3",
   "metadata": {},
   "outputs": [],
   "source": [
    "inputs=torch.cat([input_x,input_y],1)"
   ]
  },
  {
   "cell_type": "code",
   "execution_count": 21,
   "id": "f412f353",
   "metadata": {},
   "outputs": [],
   "source": [
    "pos_number=network[network[4]==1].shape[0]\n",
    "negtive_number=network[network[4]==0].shape[0]"
   ]
  },
  {
   "cell_type": "code",
   "execution_count": 22,
   "id": "e00796a8",
   "metadata": {},
   "outputs": [],
   "source": [
    "test_ratio=0.1\n",
    "val_ratio=0.1"
   ]
  },
  {
   "cell_type": "code",
   "execution_count": 23,
   "id": "27924c6b",
   "metadata": {},
   "outputs": [],
   "source": [
    "pos_maks_result= pos_masks(pos_number,negtive_number, test_ratio)"
   ]
  },
  {
   "cell_type": "code",
   "execution_count": 24,
   "id": "916b7bf7",
   "metadata": {},
   "outputs": [],
   "source": [
    "train_pos_mask=pos_maks_result['pos_masks'][0]\n",
    "test_pos_mask=pos_maks_result['pos_masks'][1]\n",
    "val_pos_mask=pos_maks_result['pos_masks'][2]"
   ]
  },
  {
   "cell_type": "code",
   "execution_count": 25,
   "id": "0e98a621",
   "metadata": {},
   "outputs": [],
   "source": [
    "test_pos_id=pos_maks_result['test_id']"
   ]
  },
  {
   "cell_type": "code",
   "execution_count": 26,
   "id": "55fc4436",
   "metadata": {},
   "outputs": [],
   "source": [
    "test_neg_mask,val_neg_mask,train_neg_set=test_val_neg_maks(pos_number,negtive_number,test_ratio,val_ratio)"
   ]
  },
  {
   "cell_type": "code",
   "execution_count": 34,
   "id": "a215d411",
   "metadata": {},
   "outputs": [],
   "source": [
    "train_size = pos_maks_result['train_size']"
   ]
  },
  {
   "cell_type": "code",
   "execution_count": 35,
   "id": "d1bf0273",
   "metadata": {},
   "outputs": [],
   "source": [
    "lr=0.001\n",
    "weight_decay=0.\n",
    "in_feats=input_x.shape[1]\n",
    "n_hidden=128\n",
    "out_dim=1"
   ]
  },
  {
   "cell_type": "code",
   "execution_count": 36,
   "id": "dbc23602",
   "metadata": {},
   "outputs": [],
   "source": [
    "model=fusion1(in_feats,n_hidden,out_dim)"
   ]
  },
  {
   "cell_type": "code",
   "execution_count": 37,
   "id": "a242ee9c",
   "metadata": {},
   "outputs": [],
   "source": [
    "optimizer = torch.optim.Adam(model.parameters(), lr=lr,weight_decay=weight_decay)"
   ]
  },
  {
   "cell_type": "code",
   "execution_count": 39,
   "id": "600d2054",
   "metadata": {},
   "outputs": [],
   "source": [
    "patience = 20\n",
    "early_stopping = EarlyStopping(patience,path='conv.pt', verbose=True) "
   ]
  },
  {
   "cell_type": "code",
   "execution_count": 40,
   "id": "4adcc14b",
   "metadata": {
    "tags": []
   },
   "outputs": [
    {
     "name": "stdout",
     "output_type": "stream",
     "text": [
      "In epoch 0, train_loss: 0.6914793848991394,val_loss:0.6926318407058716,val_acc:0.5271715323765106\n",
      "In epoch 5, train_loss: 0.6342646479606628,val_loss:0.6226556897163391,val_acc:0.7292509469452962\n",
      "In epoch 10, train_loss: 0.6004579663276672,val_loss:0.5817379355430603,val_acc:0.7730874281738773\n",
      "In epoch 15, train_loss: 0.5710968375205994,val_loss:0.5449512004852295,val_acc:0.8154422943131747\n",
      "In epoch 20, train_loss: 0.5428081750869751,val_loss:0.515661358833313,val_acc:0.8335888582545286\n",
      "In epoch 25, train_loss: 0.5183410048484802,val_loss:0.5003213882446289,val_acc:0.8409067484346414\n",
      "In epoch 30, train_loss: 0.49506819248199463,val_loss:0.48694103956222534,val_acc:0.8492939782009328\n",
      "In epoch 35, train_loss: 0.4684229791164398,val_loss:0.4806852638721466,val_acc:0.8501765054497668\n",
      "In epoch 40, train_loss: 0.4379933178424835,val_loss:0.4739850163459778,val_acc:0.8542734932618723\n",
      "In epoch 45, train_loss: 0.4236830174922943,val_loss:0.46593567728996277,val_acc:0.8590404287665232\n",
      "In epoch 50, train_loss: 0.40192046761512756,val_loss:0.4644233286380768,val_acc:0.8594269370506841\n",
      "In epoch 55, train_loss: 0.3894422650337219,val_loss:0.465014785528183,val_acc:0.8649475637094488\n",
      "In epoch 60, train_loss: 0.3841657340526581,val_loss:0.46269920468330383,val_acc:0.8640457110464068\n",
      "In epoch 65, train_loss: 0.3693549931049347,val_loss:0.4652651846408844,val_acc:0.8707709551908063\n",
      "In epoch 70, train_loss: 0.34201887249946594,val_loss:0.4750021994113922,val_acc:0.863723620809606\n",
      "In epoch 75, train_loss: 0.3352675437927246,val_loss:0.4588417410850525,val_acc:0.8735924656651807\n",
      "In epoch 80, train_loss: 0.3183061182498932,val_loss:0.4751952886581421,val_acc:0.8692313638588988\n",
      "Early stopping\n",
      "tensor(0.6036)\n",
      "0.8278943028678916\n"
     ]
    }
   ],
   "source": [
    "for epoch in range(1000000):\n",
    "    model.train()\n",
    "    \n",
    "    train_neg_mask=train_neg_mask_build(pos_number,negtive_number,train_neg_set,train_size)\n",
    "    \n",
    "    logits = model(input_x,input_y,inputs)\n",
    "#     loss,train_acc = compute_loss(logits[train_pos_mask],logits[train_neg_mask])\n",
    "    loss= binary_loss(logits[train_pos_mask].view(-1),logits[train_neg_mask].view(-1))\n",
    "    \n",
    "    val_loss,acc = binary_val(model,input_x,input_y,inputs,val_pos_mask,val_neg_mask)\n",
    "    \n",
    "    optimizer.zero_grad()\n",
    "    loss.backward()\n",
    "    optimizer.step()\n",
    "#     scheduler.step()\n",
    "    if epoch % 5 == 0:\n",
    "        print('In epoch {}, train_loss: {},val_loss:{},val_acc:{}'.format(epoch, loss,val_loss,acc))\n",
    "#         print('In epoch {}, train_loss: {}, train_acc:{},val_loss:{},val_acc:{}'.format(epoch, loss,train_acc,val_loss,acc))\n",
    "    early_stopping(val_loss, model)\n",
    "    if early_stopping.early_stop:\n",
    "        print  (\"Early stopping\")\n",
    "        break \n",
    "with torch.no_grad():\n",
    "\n",
    "    pred = model(input_x,input_y,inputs)\n",
    "    test_loss=binary_loss(pred[test_pos_mask].view(-1),pred[test_neg_mask].view(-1))\n",
    "    test_acc=compute_auc(pred[test_pos_mask].view(-1),pred[test_neg_mask].view(-1))\n",
    "    print(test_loss)\n",
    "    print(test_acc)"
   ]
  }
 ],
 "metadata": {
  "kernelspec": {
   "display_name": "Python 3 (ipykernel)",
   "language": "python",
   "name": "python3"
  },
  "language_info": {
   "codemirror_mode": {
    "name": "ipython",
    "version": 3
   },
   "file_extension": ".py",
   "mimetype": "text/x-python",
   "name": "python",
   "nbconvert_exporter": "python",
   "pygments_lexer": "ipython3",
   "version": "3.7.11"
  }
 },
 "nbformat": 4,
 "nbformat_minor": 5
}
